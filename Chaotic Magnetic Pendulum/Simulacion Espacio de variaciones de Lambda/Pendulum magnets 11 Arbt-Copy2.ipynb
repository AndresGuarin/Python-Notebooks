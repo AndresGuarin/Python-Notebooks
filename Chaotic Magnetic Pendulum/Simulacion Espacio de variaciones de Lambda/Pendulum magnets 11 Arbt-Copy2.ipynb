{
 "cells": [
  {
   "cell_type": "markdown",
   "id": "a46fcf3b",
   "metadata": {
    "id": "a46fcf3b"
   },
   "source": [
    "# Simulation Chaotic Magnetic Pendulum"
   ]
  },
  {
   "cell_type": "markdown",
   "id": "4b89180e",
   "metadata": {
    "id": "4b89180e"
   },
   "source": [
    "This code calculates the positions and velocities of the magnetic pendulum using the positions of the arragment of magnets on the table and the initial conditions of this magnetic pendulum. The solution was obtained using the RK4 method. Besides, this code also analysis the data obtaines throw animations of the movement, phase portraits, Liapunov exponents, and basins of atraction.\n",
    "\n",
    "The structure of the code follows the nex points:\n",
    "1. [Create the code to find and animate the trajectories](#section1)\n",
    "    1. Class of magnetic pendulum\n",
    "    2. Animation\n",
    "    \n",
    "2. [Run the code and show results](#section2)\n",
    "    1. Normal run\n",
    "    2. Load data of other runs\n",
    "    3. Plot potential and trajectory\n",
    "    4. Aditional isues\n",
    "    \n",
    "3. [Analyse the data](#section3)\n",
    "    1. Phase Portrait\n",
    "    2. Difference of paths and Liapunov exponent\n",
    "    3. Lyapunov Exponent Analysis"
   ]
  },
  {
   "cell_type": "code",
   "execution_count": 1,
   "id": "b8821bf4",
   "metadata": {
    "executionInfo": {
     "elapsed": 6,
     "status": "ok",
     "timestamp": 1650247388267,
     "user": {
      "displayName": "Andrés Guarin",
      "userId": "10643971786942430713"
     },
     "user_tz": 300
    },
    "id": "b8821bf4"
   },
   "outputs": [],
   "source": [
    "from matplotlib import cm  #Color maps\n",
    "from scipy.optimize import curve_fit\n",
    "import numpy as np\n",
    "import pandas as pd\n",
    "import matplotlib.pyplot as plt\n",
    "import matplotlib.animation as animation\n",
    "import time"
   ]
  },
  {
   "cell_type": "markdown",
   "id": "03624271",
   "metadata": {
    "id": "03624271"
   },
   "source": [
    "## 1. Create the code to find and animate the trajectories  <a id='section1'></a>"
   ]
  },
  {
   "cell_type": "markdown",
   "id": "bdcc3ffc",
   "metadata": {
    "id": "bdcc3ffc"
   },
   "source": [
    "### A. Class of the magnetic pendulum"
   ]
  },
  {
   "cell_type": "code",
   "execution_count": 2,
   "id": "fc16f717",
   "metadata": {
    "colab": {
     "base_uri": "https://localhost:8080/"
    },
    "executionInfo": {
     "elapsed": 2442,
     "status": "ok",
     "timestamp": 1650246209586,
     "user": {
      "displayName": "Andrés Guarin",
      "userId": "10643971786942430713"
     },
     "user_tz": 300
    },
    "id": "fc16f717",
    "outputId": "922bd0b1-aaba-4c12-e64c-6e34665ef12f"
   },
   "outputs": [
    {
     "name": "stdout",
     "output_type": "stream",
     "text": [
      "Done\n"
     ]
    }
   ],
   "source": [
    "class pendulum:\n",
    "    def __init__(self):\n",
    "        # System dynamics parameters\n",
    "        self.R = 0          #friction constant   \n",
    "        self.l = 0.54       #Pendulum length\n",
    "        self.d = 0.03       #vertical distance between pendulum and magnets\n",
    "        self.h = 0.001       #time lapse between each step\n",
    "        self.N = 60000       #total number of steps\n",
    "        self.m = 0.036226   #Mass of the pendulum magnet\n",
    "        self.mu_P_magn = 2  #Magnitude of the magnetic dipole of the pendulum magnet\n",
    "        \n",
    "        # Other parameters\n",
    "        self.sec = 1/self.h #Number of steps that waste one second.\n",
    "        self.Table_SIZE = 0.3\n",
    "        self.NMAGNETS = 9\n",
    "        self.lim = self.Table_SIZE/2 + 0.04         #Limit of the plots\n",
    "        self.lim_vs = (self.Table_SIZE + 0.05)/2   #Limit plot of vector space\n",
    "        \n",
    "        # Initial velocities\n",
    "        self.vx = 0\n",
    "        self.vy = 0\n",
    "        \n",
    "        # Set initial position randomly    \n",
    "        lm = self.Table_SIZE\n",
    "        self.x = np.random.rand()*lm -lm/2\n",
    "        self.y = np.random.rand()*lm -lm/2\n",
    "              \n",
    "        # Create table\n",
    "        self.Mx0 = [0.14233062820745887, 0.02944837371034076, -0.05426532834852549, \n",
    "              -0.06032737886107843, -0.08297754374954086, 0.11916400502656863, \n",
    "               0.04521514008679134, -0.0233, 0.014947564108854505]\n",
    "        self.My0 = [0.06427852819354979,  0.021412071373469233, 0.025695474931522272,\n",
    "             -0.125554841803107, -0.068025984035971, -0.048248682583613894,\n",
    "             -0.10589038572208646, -0.0337, 0.0809038924904392]\n",
    "        self.Mx0 = np.array(self.Mx0)\n",
    "        self.My0 = np.array(self.My0)\n",
    "\n",
    "        rho = np.sqrt(self.Mx0**2+self.My0**2)\n",
    "        self.Mx = 0.05*self.Mx0/max(rho)\n",
    "        self.My = 0.05*self.My0/max(rho)\n",
    "        \n",
    "        self.NMAGNETS = len(self.Mx)\n",
    "        \n",
    "        # Create dipoles\n",
    "        self.mu = np.array([2.5]*len(self.Mx))\n",
    "        self.mu_magn = np.abs(np.array(self.mu))\n",
    "        \n",
    "        self.mu_dir = [np.array([0,0,-1])*np.sign(self.mu[i]) for i in range(self.NMAGNETS)] #Direction magnetic dipoles of table magnets\n",
    "        self.mu_dir = np.array(self.mu_dir)\n",
    "        self.mu_NUMS=len(self.mu_magn)\n",
    "        \n",
    "        #Finding S values\n",
    "        self.S = np.copy(self.mu_magn)\n",
    "        self.S = 3*(4*np.pi*10**-7 * self.mu_P_magn) / (4*np.pi) * self.S\n",
    "    \n",
    "        self.sign = [np.sign(self.mu[i]) for i in range(self.NMAGNETS)] #If sign is positive there is atraction; if negative, repulsion\n",
    "    \n",
    "    def set_hN(self,h,N):\n",
    "        self.h = h\n",
    "        self.N = N\n",
    "        self.sec = 1/self.h #Number of steps that waste one second.\n",
    "        \n",
    "    def set_r(self,r):\n",
    "        self.Mx = r*self.Mx0/max(rho)\n",
    "        self.My = r*self.My0/max(rho)\n",
    "    \n",
    "    def set_CI(self, CI):\n",
    "        self.x = CI[0]\n",
    "        self.y = CI[1]\n",
    "        self.vx = CI[2]\n",
    "        self.vy = CI[3]\n",
    "    \n",
    "    def set_lim(self, lim):\n",
    "        self.lim = lim\n",
    "    \n",
    "    def set_positions(self,CI, Mx, My):\n",
    "        self.x = CI[0]\n",
    "        self.y = CI[1]\n",
    "        self.vx = CI[2]\n",
    "        self.vy = CI[3]\n",
    "        \n",
    "        self.Mx = Mx\n",
    "        self.My = My\n",
    "        self.NMAGNETS = Mx.size\n",
    "        \n",
    "    def set_code_parameters(self, m, l, d):\n",
    "        self.m = m     #Mass of the pendulum\n",
    "        self.l = l     #lenght of the pendulum\n",
    "        self.d = d     #Distance between table and pendulum equilibrium position\n",
    "    \n",
    "    def set_magnetic_dipoles(self, mu_P, mu):\n",
    "        self.mu_P_magn = np.abs(mu_P)  #Magnitude of the magnetic dipole\n",
    "        self.mu_magn = np.abs(np.array(mu))\n",
    "        self.mu_dir = [np.array([0,0,-1])*np.sign(mu[i]) for i in range(self.NMAGNETS)] #Direction magnetic dipoles of table magnets\n",
    "        \n",
    "        self.mu_dir = np.array(self.mu_dir)\n",
    "        self.mu_NUMS=len(self.mu_magn)\n",
    "        \n",
    "        #Finding S values\n",
    "        self.S = np.copy(self.mu_magn)\n",
    "        self.S = 3*(4*np.pi*10**-7 * self.mu_P_magn) / (4*np.pi) * self.S\n",
    "    \n",
    "        self.sign = [np.sign(self.mu[i]) for i in range(self.NMAGNETS)] #If sign is positive there is atraction; if negative, repulsion\n",
    "    \n",
    "    def input_path(self, P):\n",
    "        self.X = P[0]\n",
    "        self.Y = P[1]\n",
    "        self.Vx = P[2]\n",
    "        self.Vy = P[3]\n",
    "    \n",
    "    def get_self(self):\n",
    "        return self\n",
    "    \n",
    "    def find_path(self):\n",
    "        # Finding the next steps for each interval\n",
    "        self.X = [self.x]    #X positions\n",
    "        self.Y = [self.y]    #Y positions\n",
    "        self.Vx = [self.vx]  #X velocities\n",
    "        self.Vy = [self.vy]  #Y velocities\n",
    "        self.FB = []         #Arrays of the net magnetic forces\n",
    "        self.B = []         #Arrays of the net magnetic fields\n",
    "        \n",
    "        s=self.sec #Number of steps that waste one second.\n",
    "        A = int(1.2*s) #check point 1\n",
    "        B = int(0.6*s) #check point 2\n",
    "        C = int(0.2*s) #check point 3\n",
    "        Rc = (0.01)**2 #squared Critical distance to stop the calculations. The magnitude is in meters^2\n",
    "        \n",
    "        #Finfing path\n",
    "        for t in range(self.N):\n",
    "            next_val=self.next_value(self.X[t],self.Y[t],self.Vx[t],self.Vy[t])\n",
    "            \n",
    "            self.FB.append(self.FF2)\n",
    "            self.B.append(self.BB2)\n",
    "            self.X.append(next_val[0])\n",
    "            self.Y.append(next_val[1])\n",
    "            self.Vx.append(next_val[2])\n",
    "            self.Vy.append(next_val[3])\n",
    "            \n",
    "            #if t>5*s:  #This conditional returns true when the time is higher than 5 seconds\n",
    "            #    if ((self.X[t-A]-self.X[t])**2 + (self.Y[t-A]-self.Y[t])**2 < Rc):\n",
    "            #        if ((self.X[t-B]-self.X[t])**2 + (self.Y[t-B]-self.Y[t])**2 < Rc):\n",
    "            #            if ((self.X[t-C]-self.X[t])**2 + (self.Y[t-C]-self.Y[t])**2 < Rc):\n",
    "            #                break\n",
    "            \n",
    "        # Find the last net magnetic force and net magnetic field\n",
    "        aux = self.next_value(self.X[-1],self.Y[-1],self.Vx[-1],self.Vy[-1])\n",
    "        self.FB.append(self.FF2)\n",
    "        self.B.append(self.BB2)\n",
    "        \n",
    "        # Converting list to arrays\n",
    "        self.X = np.array(self.X)\n",
    "        self.Y = np.array(self.Y)\n",
    "        self.Vx = np.array(self.Vy)\n",
    "        self.Vy = np.array(self.Vx)\n",
    "        \n",
    "        return self.X, self.Y, self.Vx, self.Vy\n",
    "    \n",
    "    def plot_path(self):\n",
    "        # Plot trajectory\n",
    "        plt.plot(self.X,self.Y,'-b',linewidth=0.5)\n",
    "        \n",
    "        # Initial and final position\n",
    "        plt.plot(self.X[0],self.Y[0],'Dg',label=f'Initial position ({np.round(self.X[0],3)},{np.round(self.Y[0],3)})', markersize=5)\n",
    "        plt.plot(self.X[-1],self.Y[-1],'Dc',label='Final position', markersize=5)\n",
    "        \n",
    "        # Put legends, title, labales, and ticks\n",
    "        plt.legend(fontsize=12)\n",
    "        plt.title('Trajectory of the magnet',fontsize=15)\n",
    "        plt.xlabel('x-axis [m]',fontsize=12)\n",
    "        plt.ylabel('y-axis [m]',fontsize=12)\n",
    "        plt.xticks(fontsize=10)\n",
    "        plt.yticks(fontsize=10)\n",
    "        \n",
    "    def plot_table(self):\n",
    "        \n",
    "        # Plot magnets\n",
    "        plt.figure(figsize=(6,6))\n",
    "        for i in range(self.NMAGNETS):\n",
    "            plt.plot(self.Mx[i],self.My[i],'or')\n",
    "        plt.plot(self.Mx[0],self.My[0],'or',label='Magnets')\n",
    "        \n",
    "        # Plot Table\n",
    "        self.ap = self.Table_SIZE/2 +0.01\n",
    "        plt.plot([-self.ap,-self.ap,self.ap,self.ap,-self.ap],[-self.ap,self.ap,self.ap,-self.ap,-self.ap],'-b',label='Table')\n",
    "        \n",
    "        # Put legends, title, labales, and limits\n",
    "        plt.legend()\n",
    "        plt.title('Positions of magnets')\n",
    "        plt.xlabel('x-axis [m]')\n",
    "        plt.ylabel('y-axis [m]')\n",
    "        plt.xlim(-self.lim,self.lim)\n",
    "        plt.ylim(-self.lim,self.lim) \n",
    "\n",
    "    def plot_vector_space(self,res=20,a=0):\n",
    "        \n",
    "        # Put limits of plot\n",
    "        if a==0:\n",
    "            a=self.lim_vs #Predefined value\n",
    "        elif a > self.l:\n",
    "            a = self.l/2 #Ensure that the points are ploted in the zone inside the spheric pendulum\n",
    "        \n",
    "        # Create data of vector tails\n",
    "        t = np.linspace(-a,a,res)\n",
    "        NUM = len(t)\n",
    "        X, Y = np.meshgrid(t,t)\n",
    "        Z = -np.sqrt(self.l**2 - X**2 - Y**2)+self.l+self.d\n",
    "        \n",
    "        # Finding net magnetic force\n",
    "        Fx = np.zeros((NUM,NUM))\n",
    "        Fy = np.zeros((NUM,NUM))\n",
    "        Fz = np.zeros((NUM,NUM))\n",
    "        \n",
    "        # Unit vector of the magnetic dipole m1 (from Q to P)\n",
    "        M1x = X/self.l                 #X component \n",
    "        M1y = Y/self.l                 #Y component \n",
    "        M1z = (Z-self.l-self.d)/self.l #Z component \n",
    "        \n",
    "        # Iterating over table magnets\n",
    "        for i in range(self.NMAGNETS):\n",
    "            \n",
    "            #Squared distance between magnet i and pendulum magnet\n",
    "            R = (self.Mx[i]-X)**2 + (self.My[i]-Y)**2 + Z**2  \n",
    "            \n",
    "            #Table magnet constants\n",
    "            m2 = self.mu_dir[i]\n",
    "            \n",
    "            #Unit vector from m2 (on table) to m1 (in pendulum)\n",
    "            Ur_x = (X-self.Mx[i])/np.sqrt(R) #X component \n",
    "            Ur_y = (Y-self.My[i])/np.sqrt(R) #Y component \n",
    "            Ur_z = Z/np.sqrt(R)              #Z component \n",
    "            \n",
    "            #Dot products\n",
    "            M12 = M1x*m2[0] + M1y*m2[1] + M1z*m2[2]     #Dot products between m1 and m2\n",
    "            M1r = M1x*Ur_x + M1y*Ur_y + M1z*Ur_z        #Dot products between m1 and ur\n",
    "            M2r = m2[0]*Ur_x + m2[1]*Ur_y + m2[2]*Ur_z  #Dot products between m2 and ur\n",
    "            \n",
    "            #Sum contributions of all magnets\n",
    "            Fx = Fx + self.S[i] / R**2 * ( (M12)*Ur_x + (M2r)*M1x + (M1r)*m2[0] - 5*(M1r)*(M2r)*Ur_x )\n",
    "            Fy = Fy + self.S[i] / R**2 * ( (M12)*Ur_y + (M2r)*M1y + (M1r)*m2[1] - 5*(M1r)*(M2r)*Ur_y )\n",
    "            Fz = Fz + self.S[i] / R**2 * ( (M12)*Ur_z + (M2r)*M1z + (M1r)*m2[0] - 5*(M1r)*(M2r)*Ur_z )\n",
    "        \n",
    "        # Magnitude of the projection of net magnetic force on plane xy\n",
    "        F_xy_mag = np.sqrt(Fx**2 + Fy**2)\n",
    "        \n",
    "        # Finding tension Force\n",
    "        \n",
    "        # Unit vector of tension (from P to Q) \n",
    "        UT_x = -X/self.l                #X component \n",
    "        UT_y = -Y/self.l                #Y component \n",
    "        UT_z = (self.l+self.d-Z)/self.l #Z component \n",
    "        \n",
    "        # Dot product\n",
    "        FbUT = Fx*UT_x + Fy*UT_y + Fz*UT_z  #Dot product between net Fb and UT\n",
    "        \n",
    "        # Finding Tension\n",
    "        Tx = (self.m*9.8*(self.l+self.d-Z)/self.l - FbUT)*UT_x\n",
    "        Ty = (self.m*9.8*(self.l+self.d-Z)/self.l - FbUT)*UT_y\n",
    "        Tz = (self.m*9.8*(self.l+self.d-Z)/self.l - FbUT)*UT_z\n",
    "        \n",
    "        # Magnitude of the projection of tension force on plane xy\n",
    "        T_xy_mag = np.sqrt(Tx**2 + Ty**2)\n",
    "        \n",
    "        # Find force field (refusing friction force)\n",
    "        Field_x = Fx+Tx\n",
    "        Field_y = Fy+Ty\n",
    "        Field_z = Fz+Tz\n",
    "        \n",
    "        # Magnitude of the projection of force field on plane xy\n",
    "        Field_xy_mag = np.sqrt(Field_x**2 + Field_y**2)\n",
    "        \n",
    "        # Plotting vectors\n",
    "        \n",
    "        # Field Forces\n",
    "        plt.quiver(X,Y,Field_x/Field_xy_mag, Field_y/Field_xy_mag, width=0.0025, angles='xy', scale_units='width', scale=36)\n",
    "        \n",
    "        #Magnetic net forces\n",
    "        #plt.quiver(X,Y,Fx/F_xy_mag,Fy/F_xy_mag, linewidths=4, width=0.0025, angles='xy', scale_units='width', scale=39)                \n",
    "        \n",
    "        #Tensions\n",
    "        #plt.quiver(X,Y,Tx/T_xy_mag, Ty/T_xy_mag, linewidths=4, width=0.0025, angles='xy', scale_units='width', scale=37)\n",
    "\n",
    "    \n",
    "    def plot_potential(self,res=20, a=0):\n",
    "        \n",
    "        # Put limits of plot\n",
    "        if a==0:\n",
    "            a = self.lim_vs #predifined value\n",
    "        elif a > self.l:\n",
    "            a = self.l/2 #Ensure that the points are ploted in the zone inside the spheric pendulum\n",
    "        \n",
    "        # Create data of the plot\n",
    "        t = np.linspace(-a,a,res)\n",
    "        NUM = len(t)\n",
    "        X, Y = np.meshgrid(t,t)\n",
    "        Z = -np.sqrt(self.l**2 - X**2 - Y**2)+self.l+self.d\n",
    "\n",
    "        # Finding magnetic field B\n",
    "        Bx = np.zeros((NUM,NUM))\n",
    "        By = np.zeros((NUM,NUM))\n",
    "        Bz = np.zeros((NUM,NUM))\n",
    "        \n",
    "        # Unit vector of the magnetic dipole of m1 (vector from Q to P)\n",
    "        M1x = X/self.l                 #X component\n",
    "        M1y = Y/self.l                 #Y component \n",
    "        M1z = (Z-self.l-self.d)/self.l #Z component \n",
    "        \n",
    "        # Iterating over each table magnet\n",
    "        for i in range(self.NMAGNETS):\n",
    "            \n",
    "            #Squared distance between magnet i and the pendulum magnet\n",
    "            R = (self.Mx[i]-X)**2 + (self.My[i]-Y)**2 + Z**2  \n",
    "            \n",
    "            #Table magnet constants\n",
    "            m2 = self.mu_dir[i]\n",
    "            Cm = -(4*np.pi*10**-7 * self.mu_magn[i]) / (4*np.pi)\n",
    "            \n",
    "            #Unit vector from m2 (on table) to m1 (in pendulum)\n",
    "            Ur_x = (X-self.Mx[i])/np.sqrt(R) #X component\n",
    "            Ur_y = (Y-self.My[i])/np.sqrt(R) #Y component \n",
    "            Ur_z = Z/np.sqrt(R)              #Z component \n",
    "            \n",
    "            #Dot products\n",
    "            M2r = m2[0]*Ur_x + m2[1]*Ur_y + m2[2]*Ur_z  #Dot products between m2 and ur\n",
    "            \n",
    "            #Sum contributions of all magnets\n",
    "            Bx = Bx + Cm/R**(3/2) * (m2[0] - 3*M2r*Ur_x)\n",
    "            By = By + Cm/R**(3/2) * (m2[1] - 3*M2r*Ur_y)\n",
    "            Bz = Bz + Cm/R**(3/2) * (m2[2] - 3*M2r*Ur_z)\n",
    "        \n",
    "        # Finding magnetic potential\n",
    "        \n",
    "        # Unit vector from Q to P (direction of m1)\n",
    "        Um1_x = X/self.l                 #X component  \n",
    "        Um1_y = Y/self.l                 #Y component \n",
    "        Um1_z = (Z-self.l-self.d)/self.l #Z component \n",
    "        \n",
    "        # Pendulum magnet constants\n",
    "        m1 = self.mu_P_magn\n",
    "        \n",
    "        # Magnetic potential\n",
    "        Um = -m1 * (Um1_x*Bx + Um1_y*By + Um1_z*Bz)\n",
    "        \n",
    "        # Finding gravitational potential\n",
    "        Ug = self.m*9.8*(Z-self.d)\n",
    "        \n",
    "        # Plot potential\n",
    "        fig = plt.figure(figsize=(5,4))\n",
    "        ax = plt.axes(projection='3d')\n",
    "        surf = ax.plot_surface(X,Y,Ug+Um, cmap=cm.jet, edgecolor='none')\n",
    "        fig.colorbar(surf,shrink=0.5, aspect=8, pad = 0.15)\n",
    "        \n",
    "        plt.title(f'Potential Energy', fontsize=15)\n",
    "        plt.xlabel(r'X [m]',fontsize=12)\n",
    "        plt.ylabel(r'Y [m]',fontsize=12)\n",
    "        ax.set_zlabel(r'Ug+Um [J]',fontsize=12)\n",
    "        plt.xticks(fontsize=9)\n",
    "        plt.yticks(fontsize=9)\n",
    "        for t in ax.zaxis.get_major_ticks(): t.label.set_fontsize(9)\n",
    "            \n",
    "    def Fk(self,x,y,vx,vy):\n",
    "        \"\"\"\n",
    "        Calculates the velocity and acelerations based on the initial conditions of the magnets \n",
    "        @params\n",
    "        mx, my:\n",
    "            arrays of doubles that contains the position of the magnets\n",
    "        x,y,vx,vy:\n",
    "            doubles of the position and velocity of the pendulum magnet\n",
    "\n",
    "        @returns\n",
    "        vx, vy ,ax, ay:\n",
    "            doubles that contains the velocity and aceleration based on the given inputs\n",
    "        \"\"\" \n",
    "        \n",
    "        # z component of pendulum magnet\n",
    "        z = -np.sqrt(self.l**2-x**2-y**2)+self.l+self.d       \n",
    "        \n",
    "        # Magnetic dipole vector m1 of pendulum magnet.     \n",
    "        \n",
    "        # Vector from Q to P\n",
    "        rqp = np.array([x,y,z-self.l-self.d])\n",
    "        \n",
    "        # Magnetic dipole\n",
    "        m1 = rqp/self.l\n",
    "        \n",
    "        # Finidng the sum of the magnetic forces\n",
    "        Fb = np.array([0,0,0])\n",
    "        B = np.array([0,0,0]) #magnetic field\n",
    "        for i in range(self.NMAGNETS):\n",
    "            #Squared distance between pendulum and table magnet\n",
    "            r = (self.Mx[i]-x)**2 + (self.My[i]-y)**2 + z**2\n",
    "            \n",
    "            #Magnetic dipole vector of the table magnet\n",
    "            m2 = self.mu_dir[i]\n",
    "            \n",
    "            #Unit vector of relative position (from m2 to m1)\n",
    "            ur = np.array( [x-self.Mx[i], y-self.My[i], z] )/np.sqrt(r) \n",
    "            \n",
    "            #Sum of the forces\n",
    "            Fb = Fb + self.S[i] * ( (m1@m2)*ur + (m2@ur)*m1 + (m1@ur)*m2 - 5*(m1@ur)*(m2@ur)*ur ) / r**2\n",
    "            \n",
    "            #Constants for magnetic field\n",
    "            Cm = -(4*np.pi*10**-7 * self.mu_magn[i]) / (4*np.pi)\n",
    "            \n",
    "            #Sum of mgnetic field\n",
    "            B = B + Cm/r**(3/2) * (m2 - 3*(m2@ur)*ur)\n",
    "        \n",
    "        # Save the data of the net magnetic force and net magnetic field.\n",
    "        self.FF1 = Fb\n",
    "        self.BB1 = B\n",
    "        \n",
    "        # Finding tension\n",
    "        \n",
    "        # Unit vector from P to Q\n",
    "        uT = -rqp/self.l \n",
    "        \n",
    "        # Tension\n",
    "        T = (self.m*9.8*(self.l+self.d-z)/self.l - Fb@uT)*uT\n",
    "        \n",
    "        # Acelerations\n",
    "        ax = (Fb[0] - self.R*vx + T[0])/self.m\n",
    "        ay = (Fb[1] - self.R*vy + T[1])/self.m\n",
    "               \n",
    "        return np.array([vx, vy, ax, ay])\n",
    "\n",
    "    \n",
    "    def next_value(self, x,y,vx,vy):\n",
    "        \"\"\"\n",
    "        Calculates the next positions and velocities after a time lapse of self.h\n",
    "        Find the 4 k-values of the Runge-Kutta method (RK4)\n",
    "        @params\n",
    "        x,y,vx,vy:\n",
    "            doubles of the position and velocity of the pendulum magnet\n",
    "\n",
    "        @returns\n",
    "        xf,yf,vxf,vyf\n",
    "            doubles that contains the final positions and velocities of the pendulum magnet\n",
    "        \"\"\"\n",
    "        \n",
    "        #K1 and calculations\n",
    "        k1 = self.h*self.Fk(x,y,vx,vy)\n",
    "        x1 = x + k1[0]/2\n",
    "        y1 = y + k1[1]/2\n",
    "        vx1 = vx + k1[2]/2\n",
    "        vy1 = vy + k1[3]/2\n",
    "        \n",
    "        #Save magnetic Force and magnetic field\n",
    "        self.FF2 = self.FF1\n",
    "        self.BB2 = self.BB1\n",
    "\n",
    "        #K2 and calculations\n",
    "        k2 = self.h*self.Fk(x1,y1,vx1,vy1)\n",
    "        x2 = x + k2[0]/2\n",
    "        y2 = y + k2[1]/2\n",
    "        vx2 = vx + k2[2]/2\n",
    "        vy2 = vy + k2[3]/2\n",
    "\n",
    "        #K3 and calculations\n",
    "        k3 = self.h*self.Fk(x2,y2,vx2,vy2)\n",
    "        x3 = x + k2[0]\n",
    "        y3 = y + k2[1]\n",
    "        vx3 = vx + k2[2]\n",
    "        vy3 = vy + k2[3]\n",
    "\n",
    "        #K4 and calculating final positions\n",
    "        k4 = self.h*self.Fk(x3,y3,vx3,vy3)\n",
    "        xf = x + 1/6*(k1[0] + 2*k2[0] + 2*k3[0] + k4[0])\n",
    "        yf = y + 1/6*(k1[1] + 2*k2[1] + 2*k3[1] + k4[1])\n",
    "        vxf = vx + 1/6*(k1[2] + 2*k2[2] + 2*k3[2] + k4[2])\n",
    "        vyf = vy + 1/6*(k1[3] + 2*k2[3] + 2*k3[3] + k4[3])\n",
    "\n",
    "        return np.array([xf, yf, vxf, vyf])\n",
    "    \n",
    "print('Done')"
   ]
  },
  {
   "cell_type": "markdown",
   "id": "d221d1d0",
   "metadata": {
    "id": "d221d1d0"
   },
   "source": [
    "### B. Animation"
   ]
  },
  {
   "cell_type": "code",
   "execution_count": 3,
   "id": "6aa084ea",
   "metadata": {
    "colab": {
     "base_uri": "https://localhost:8080/"
    },
    "executionInfo": {
     "elapsed": 372,
     "status": "ok",
     "timestamp": 1650245711930,
     "user": {
      "displayName": "Andrés Guarin",
      "userId": "10643971786942430713"
     },
     "user_tz": 300
    },
    "id": "cab8ad80",
    "outputId": "4813b2fe-710d-453a-f43a-b369fb18cdde",
    "scrolled": false
   },
   "outputs": [
    {
     "name": "stdout",
     "output_type": "stream",
     "text": [
      "Done\n"
     ]
    }
   ],
   "source": [
    "def animate_path(self):\n",
    "    \n",
    "    #local function for update each frame\n",
    "    def update(j):\n",
    "        \n",
    "        # Clear the before plot\n",
    "        ax.clear()\n",
    "        \n",
    "        # Plot the trajectories until the interval j\n",
    "        ax.plot(self.X[:j],self.Y[:j],'-b',linewidth=0.5)\n",
    "        ax.plot(self.X[j],self.Y[j],'o',markersize=5,color='b')\n",
    "    \n",
    "        # Plot the magnets\n",
    "        for i in range(self.NMAGNETS):\n",
    "            ax.plot(self.Mx[i],self.My[i],'or',markersize=10)\n",
    "            ax.text(self.Mx[i]-0.02,self.My[i]-0.04,f'{np.round(self.mu_magn[i]*self.sign[i],2)}', fontsize=8)\n",
    "        \n",
    "        # Plot initial and final position\n",
    "        ax.plot(self.X[0],self.Y[0],'Dg',label=f'Initial position ({np.round(self.X[0],3)},{np.round(self.Y[0],3)})', markersize=5)\n",
    "        ax.plot(self.X[-1],self.Y[-1],'Dc',label='Final position', markersize=5)\n",
    "        \n",
    "        # Finding net magnetic Force\n",
    "        FBx = self.FB[j][0]\n",
    "        FBy = self.FB[j][1]\n",
    "        FB_xy_mag = np.sqrt(FBx**2+FBy**2)\n",
    "        \n",
    "        # Plot net magnetic force vector\n",
    "        ax.quiver(self.X[j],self.Y[j],0.25*FBx/FB_xy_mag,0.25*FBy/FB_xy_mag,color='red', label='Net Fb',angles='xy', scale_units='xy', scale=2)\n",
    "        \n",
    "        # Put on legend the Iteration and time of the frame\n",
    "        ax.plot(0,0,'o',markersize=0, label=f'Iteration {j}')\n",
    "        ax.plot(0,0,'o',markersize=0, label=f'Time {np.round(j*self.h,2)}s')\n",
    "        \n",
    "        # Put grids, legends, and limits\n",
    "        plt.grid()\n",
    "        plt.legend()\n",
    "        plt.xlim(-self.lim,self.lim)\n",
    "        plt.ylim(-self.lim,self.lim) \n",
    "    \n",
    "    # Create figure and axis\n",
    "    fig = plt.figure(figsize=(6,6))\n",
    "    ax = fig.gca()\n",
    "    \n",
    "    # Put labels, title, grids, and legend\n",
    "    plt.xlabel('X-axis [m]')\n",
    "    plt.ylabel('Y-axis [m]')\n",
    "    plt.title('Pendulum magnet trajectory')\n",
    "    plt.grid()\n",
    "    plt.legend()\n",
    "    \n",
    "    # Approximately Time per each plot\n",
    "    f = 1/(0.25) \n",
    "    \n",
    "    # Number of intervals that animation show per frame. Higher 'steps' lower the time of animation. steps < N\n",
    "    steps=int(1/(self.h*f)) \n",
    "    \n",
    "    # Number of intervals\n",
    "    N = len(self.X)\n",
    "    \n",
    "    # Animate the movement\n",
    "    self.ani=animation.FuncAnimation(fig,update,range(10,N,steps), repeat=False) \n",
    "    \n",
    "    # Show animation\n",
    "    plt.show()\n",
    "print('Done')"
   ]
  },
  {
   "cell_type": "code",
   "execution_count": 4,
   "id": "ea942660",
   "metadata": {},
   "outputs": [
    {
     "name": "stdout",
     "output_type": "stream",
     "text": [
      "Using matplotlib backend: TkAgg\n"
     ]
    }
   ],
   "source": [
    "%matplotlib auto"
   ]
  },
  {
   "cell_type": "markdown",
   "id": "17fba212",
   "metadata": {
    "id": "17fba212"
   },
   "source": [
    "## 2. Run the code and show results <a id='section2'></a>"
   ]
  },
  {
   "cell_type": "markdown",
   "id": "6988a1d8",
   "metadata": {},
   "source": [
    "### A. Normal run"
   ]
  },
  {
   "cell_type": "code",
   "execution_count": 6,
   "id": "04ca1d19",
   "metadata": {},
   "outputs": [],
   "source": [
    "# Cases of test\n",
    "r = [0.1, 0.2, 0.28]    # Maximum distance of magnets to the center of coordinates\n",
    "mu_P = 2                # magnetic dipole magnitude (pendulum)\n",
    "mu = [1, 2.5, 6.25]     # Positive for atraction. Negative for repulsion.\n",
    "dat = np.meshgrid(r, mu)\n",
    "datr = dat[0].flatten()\n",
    "datmu = dat[1].flatten()\n",
    "CI = [[-0.14, -0.14,0,0], [-0.140-0.001, -0.140-0.001,0,0]]  #case 1\n",
    "\n",
    "# Parameters\n",
    "dath=[[0.00002,0.00002], [0.0005,0.0005], [0.0005,0.0005], [2e-6, 4e-7], \n",
    "      [0.0005,0.0005], [0.0005,0.0005], [0.0005,0.0005], [0.0005,0.0005], [0.0005,0.0005]]\n",
    "NUM = len(r)*len(mu)*1*2 #Número de pruebas (quantity of r * quantity of mu * cases * 2)\n",
    "\n",
    "# Create table magnets\n",
    "Mx0 = [0.102, 0.06448, 0.05103, 0.009171, -0.001572, -0.04070, -0.05998, -0.126, -0.130]         #Positions table magnets\n",
    "My0 = [-0.05954, 0.05833, -0.0001278, -0.08554, 0.08801, -0.004275, -0.09077, -0.04433, 0.08361]  \n",
    "Mx0 = np.array(Mx0)\n",
    "My0 = np.array(My0)\n",
    "\n",
    "rho = np.sqrt(Mx0**2+My0**2)\n",
    "Mx = Mx0/max(rho)\n",
    "My = My0/max(rho)\n",
    "\n",
    "# For convergence\n",
    "def norm(A,B):\n",
    "    s = [len(A[0]),len(B[0])]\n",
    "    datx = [A[0], B[0]]\n",
    "    daty = [A[1], B[1]]\n",
    "    a = s.index(min(s))\n",
    "    b = s.index(max(s))\n",
    "    rel = s[b]/s[a]\n",
    "    norm = [(datx[a][i]-datx[b][int(i*rel)])**2+(daty[a][i]-daty[b][int(i*rel)])**2 for i in range(s[a])]\n",
    "    return sum(np.sqrt(norm))/s[a]"
   ]
  },
  {
   "cell_type": "code",
   "execution_count": 7,
   "id": "8b266960",
   "metadata": {},
   "outputs": [],
   "source": [
    "pends = [pendulum() for i in range(NUM)]\n",
    "datPos= [[] for i in range(NUM)]"
   ]
  },
  {
   "cell_type": "code",
   "execution_count": 8,
   "id": "2da53ed2",
   "metadata": {
    "colab": {
     "base_uri": "https://localhost:8080/"
    },
    "executionInfo": {
     "elapsed": 1192,
     "status": "ok",
     "timestamp": 1650246399029,
     "user": {
      "displayName": "Andrés Guarin",
      "userId": "10643971786942430713"
     },
     "user_tz": 300
    },
    "id": "25695127",
    "outputId": "11e790fd-56b9-4562-f3da-a96cca3c2130"
   },
   "outputs": [
    {
     "name": "stdout",
     "output_type": "stream",
     "text": [
      "Time count=6  2258.212324619293 test=0 h=2e-06\n"
     ]
    },
    {
     "ename": "KeyboardInterrupt",
     "evalue": "",
     "output_type": "error",
     "traceback": [
      "\u001b[1;31m---------------------------------------------------------------------------\u001b[0m",
      "\u001b[1;31mKeyboardInterrupt\u001b[0m                         Traceback (most recent call last)",
      "Input \u001b[1;32mIn [8]\u001b[0m, in \u001b[0;36m<cell line: 3>\u001b[1;34m()\u001b[0m\n\u001b[0;32m     17\u001b[0m pends[count]\u001b[38;5;241m.\u001b[39mset_magnetic_dipoles(mu_P,mui)\n\u001b[0;32m     18\u001b[0m inicio \u001b[38;5;241m=\u001b[39m time\u001b[38;5;241m.\u001b[39mtime()\n\u001b[1;32m---> 19\u001b[0m X, Y, Vx, Vy \u001b[38;5;241m=\u001b[39m \u001b[43mpends\u001b[49m\u001b[43m[\u001b[49m\u001b[43mcount\u001b[49m\u001b[43m]\u001b[49m\u001b[38;5;241;43m.\u001b[39;49m\u001b[43mfind_path\u001b[49m\u001b[43m(\u001b[49m\u001b[43m)\u001b[49m\n\u001b[0;32m     20\u001b[0m datPos[count]\u001b[38;5;241m.\u001b[39mappend([X,Y,Vx,Vy])\n\u001b[0;32m     21\u001b[0m fin \u001b[38;5;241m=\u001b[39m time\u001b[38;5;241m.\u001b[39mtime()\n",
      "Input \u001b[1;32mIn [2]\u001b[0m, in \u001b[0;36mpendulum.find_path\u001b[1;34m(self)\u001b[0m\n\u001b[0;32m    129\u001b[0m \u001b[38;5;66;03m#Finfing path\u001b[39;00m\n\u001b[0;32m    130\u001b[0m \u001b[38;5;28;01mfor\u001b[39;00m t \u001b[38;5;129;01min\u001b[39;00m \u001b[38;5;28mrange\u001b[39m(\u001b[38;5;28mself\u001b[39m\u001b[38;5;241m.\u001b[39mN):\n\u001b[1;32m--> 131\u001b[0m     next_val\u001b[38;5;241m=\u001b[39m\u001b[38;5;28;43mself\u001b[39;49m\u001b[38;5;241;43m.\u001b[39;49m\u001b[43mnext_value\u001b[49m\u001b[43m(\u001b[49m\u001b[38;5;28;43mself\u001b[39;49m\u001b[38;5;241;43m.\u001b[39;49m\u001b[43mX\u001b[49m\u001b[43m[\u001b[49m\u001b[43mt\u001b[49m\u001b[43m]\u001b[49m\u001b[43m,\u001b[49m\u001b[38;5;28;43mself\u001b[39;49m\u001b[38;5;241;43m.\u001b[39;49m\u001b[43mY\u001b[49m\u001b[43m[\u001b[49m\u001b[43mt\u001b[49m\u001b[43m]\u001b[49m\u001b[43m,\u001b[49m\u001b[38;5;28;43mself\u001b[39;49m\u001b[38;5;241;43m.\u001b[39;49m\u001b[43mVx\u001b[49m\u001b[43m[\u001b[49m\u001b[43mt\u001b[49m\u001b[43m]\u001b[49m\u001b[43m,\u001b[49m\u001b[38;5;28;43mself\u001b[39;49m\u001b[38;5;241;43m.\u001b[39;49m\u001b[43mVy\u001b[49m\u001b[43m[\u001b[49m\u001b[43mt\u001b[49m\u001b[43m]\u001b[49m\u001b[43m)\u001b[49m\n\u001b[0;32m    133\u001b[0m     \u001b[38;5;28mself\u001b[39m\u001b[38;5;241m.\u001b[39mFB\u001b[38;5;241m.\u001b[39mappend(\u001b[38;5;28mself\u001b[39m\u001b[38;5;241m.\u001b[39mFF2)\n\u001b[0;32m    134\u001b[0m     \u001b[38;5;28mself\u001b[39m\u001b[38;5;241m.\u001b[39mB\u001b[38;5;241m.\u001b[39mappend(\u001b[38;5;28mself\u001b[39m\u001b[38;5;241m.\u001b[39mBB2)\n",
      "Input \u001b[1;32mIn [2]\u001b[0m, in \u001b[0;36mpendulum.next_value\u001b[1;34m(self, x, y, vx, vy)\u001b[0m\n\u001b[0;32m    428\u001b[0m \u001b[38;5;124;03m\"\"\"\u001b[39;00m\n\u001b[0;32m    429\u001b[0m \u001b[38;5;124;03mCalculates the next positions and velocities after a time lapse of self.h\u001b[39;00m\n\u001b[0;32m    430\u001b[0m \u001b[38;5;124;03mFind the 4 k-values of the Runge-Kutta method (RK4)\u001b[39;00m\n\u001b[1;32m   (...)\u001b[0m\n\u001b[0;32m    437\u001b[0m \u001b[38;5;124;03m    doubles that contains the final positions and velocities of the pendulum magnet\u001b[39;00m\n\u001b[0;32m    438\u001b[0m \u001b[38;5;124;03m\"\"\"\u001b[39;00m\n\u001b[0;32m    440\u001b[0m \u001b[38;5;66;03m#K1 and calculations\u001b[39;00m\n\u001b[1;32m--> 441\u001b[0m k1 \u001b[38;5;241m=\u001b[39m \u001b[38;5;28mself\u001b[39m\u001b[38;5;241m.\u001b[39mh\u001b[38;5;241m*\u001b[39m\u001b[38;5;28;43mself\u001b[39;49m\u001b[38;5;241;43m.\u001b[39;49m\u001b[43mFk\u001b[49m\u001b[43m(\u001b[49m\u001b[43mx\u001b[49m\u001b[43m,\u001b[49m\u001b[43my\u001b[49m\u001b[43m,\u001b[49m\u001b[43mvx\u001b[49m\u001b[43m,\u001b[49m\u001b[43mvy\u001b[49m\u001b[43m)\u001b[49m\n\u001b[0;32m    442\u001b[0m x1 \u001b[38;5;241m=\u001b[39m x \u001b[38;5;241m+\u001b[39m k1[\u001b[38;5;241m0\u001b[39m]\u001b[38;5;241m/\u001b[39m\u001b[38;5;241m2\u001b[39m\n\u001b[0;32m    443\u001b[0m y1 \u001b[38;5;241m=\u001b[39m y \u001b[38;5;241m+\u001b[39m k1[\u001b[38;5;241m1\u001b[39m]\u001b[38;5;241m/\u001b[39m\u001b[38;5;241m2\u001b[39m\n",
      "Input \u001b[1;32mIn [2]\u001b[0m, in \u001b[0;36mpendulum.Fk\u001b[1;34m(self, x, y, vx, vy)\u001b[0m\n\u001b[0;32m    403\u001b[0m     Cm \u001b[38;5;241m=\u001b[39m \u001b[38;5;241m-\u001b[39m(\u001b[38;5;241m4\u001b[39m\u001b[38;5;241m*\u001b[39mnp\u001b[38;5;241m.\u001b[39mpi\u001b[38;5;241m*\u001b[39m\u001b[38;5;241m10\u001b[39m\u001b[38;5;241m*\u001b[39m\u001b[38;5;241m*\u001b[39m\u001b[38;5;241m-\u001b[39m\u001b[38;5;241m7\u001b[39m \u001b[38;5;241m*\u001b[39m \u001b[38;5;28mself\u001b[39m\u001b[38;5;241m.\u001b[39mmu_magn[i]) \u001b[38;5;241m/\u001b[39m (\u001b[38;5;241m4\u001b[39m\u001b[38;5;241m*\u001b[39mnp\u001b[38;5;241m.\u001b[39mpi)\n\u001b[0;32m    405\u001b[0m     \u001b[38;5;66;03m#Sum of mgnetic field\u001b[39;00m\n\u001b[1;32m--> 406\u001b[0m     B \u001b[38;5;241m=\u001b[39m B \u001b[38;5;241m+\u001b[39m Cm\u001b[38;5;241m/\u001b[39mr\u001b[38;5;241m*\u001b[39m\u001b[38;5;241m*\u001b[39m(\u001b[38;5;241m3\u001b[39m\u001b[38;5;241m/\u001b[39m\u001b[38;5;241m2\u001b[39m) \u001b[38;5;241m*\u001b[39m (m2 \u001b[38;5;241m-\u001b[39m \u001b[38;5;241m3\u001b[39m\u001b[38;5;241m*\u001b[39m(m2\u001b[38;5;129m@ur\u001b[39m)\u001b[38;5;241m*\u001b[39mur)\n\u001b[0;32m    408\u001b[0m \u001b[38;5;66;03m# Save the data of the net magnetic force and net magnetic field.\u001b[39;00m\n\u001b[0;32m    409\u001b[0m \u001b[38;5;28mself\u001b[39m\u001b[38;5;241m.\u001b[39mFF1 \u001b[38;5;241m=\u001b[39m Fb\n",
      "\u001b[1;31mKeyboardInterrupt\u001b[0m: "
     ]
    }
   ],
   "source": [
    "# Run code\n",
    "count=6\n",
    "for i in range(3,4):\n",
    "    for j in range(2):\n",
    "        Mxi = datr[i]*Mx\n",
    "        Myi = datr[i]*My\n",
    "        mui = [datmu[i]]*9\n",
    "        CIj = CI[j]\n",
    "        \n",
    "        test=0\n",
    "        h = dath[i][j]*5 #For start at 'dath[i][j]' predifined value on the next cycle\n",
    "        for k in range(2):\n",
    "            h=h/5\n",
    "            N = int(4/h)\n",
    "            pends[count].set_hN(h,N)\n",
    "            pends[count].set_positions(CIj,Mxi,Myi)\n",
    "            pends[count].set_magnetic_dipoles(mu_P,mui)\n",
    "            inicio = time.time()\n",
    "            X, Y, Vx, Vy = pends[count].find_path()\n",
    "            datPos[count].append([X,Y,Vx,Vy])\n",
    "            fin = time.time()\n",
    "            print(f'Time count={count} ',fin-inicio,f'test={test} h={h}')  \n",
    "            test +=1\n",
    "        \n",
    "        repetitions=2 #Count the number of repetitions to avoid exagerate repetitions\n",
    "        while norm(datPos[count][-1][0:2], datPos[count][-2][0:2]) > 0.0003156: #For warranty convergence of path\n",
    "            h = h/5\n",
    "            N = int(4/h)\n",
    "            pends[count].set_hN(h,N)\n",
    "            pends[count].set_positions(CIj,Mxi,Myi)\n",
    "            pends[count].set_magnetic_dipoles(mu_P,mui)\n",
    "            inicio = time.time()\n",
    "            X, Y, Vx, Vy = pends[count].find_path()\n",
    "            datPos[count].append([X,Y,Vx,Vy])\n",
    "            fin = time.time()\n",
    "            print(f'Time count={count} ',fin-inicio,f'test={test} h={h}')  \n",
    "            test +=1\n",
    "            repetitions+=1\n",
    "            if repetitions>5:\n",
    "                print('Breaking point')\n",
    "                break\n",
    "        dath[i][j] = h #For save value\n",
    "        if j==0: #For assigment the h value to the second initial condition\n",
    "            dath[i][1] = h*5\n",
    "        print() #For see the data in a separate way\n",
    "        count += 1 #For passing to the next case\n",
    "    start=0"
   ]
  },
  {
   "cell_type": "code",
   "execution_count": 9,
   "id": "68ba1f01",
   "metadata": {},
   "outputs": [],
   "source": [
    "selfs = [pends[i].get_self() for i in range(6,7)]"
   ]
  },
  {
   "cell_type": "code",
   "execution_count": 11,
   "id": "f0e7b34c",
   "metadata": {},
   "outputs": [],
   "source": [
    "for i in range(0,1):\n",
    "    X = selfs[i].X\n",
    "    Y = selfs[i].Y\n",
    "    Vx = selfs[i].Vx\n",
    "    Vy = selfs[i].Vy\n",
    "    df = pd.DataFrame({'X':X, 'Y':Y, 'Vx':Vx})\n",
    "    df.to_csv(f'data_path_{i}.csv')\n",
    "    FB = selfs[i].FB\n",
    "    B = selfs[i].B\n",
    "    df2 = pd.DataFrame({'FB':FB, 'B':B})\n",
    "    df2.to_csv(f'data_forces_{i}.csv')"
   ]
  },
  {
   "cell_type": "markdown",
   "id": "590c95d0",
   "metadata": {},
   "source": [
    "### B. Load data of other runs"
   ]
  },
  {
   "cell_type": "code",
   "execution_count": 7,
   "id": "8cb5a6b1",
   "metadata": {
    "scrolled": true
   },
   "outputs": [
    {
     "name": "stdout",
     "output_type": "stream",
     "text": [
      "Done\n"
     ]
    }
   ],
   "source": [
    "for i in range(18):\n",
    "    datain = pd.read_csv(f'paths/data_path_{i}.csv', index_col=0) #For input path\n",
    "    X = datain['X'].values\n",
    "    Y = datain['Y'].values\n",
    "    Vx = datain['Vx'].values\n",
    "    Vy = datain['Vy'].values\n",
    "    pends[i].input_path([X,Y,Vx,Vy])\n",
    "    datain2 = pd.read_csv('paths/parameters.csv',index_col=0) #For input conditions\n",
    "    h,N = datain2['h'].values[i], datain2['N'].values[i]\n",
    "    pends[i].set_hN(h,N)\n",
    "    CIi = CI[i%2]\n",
    "    Mxi = datr[i//2]*Mx\n",
    "    Myi = datr[i//2]*My\n",
    "    mui = [datmu[i//2]]*9\n",
    "    pends[i].set_positions(CIi,Mxi,Myi)\n",
    "    pends[i].set_magnetic_dipoles(mu_P,mui)\n",
    "print('Done')\n",
    "selfs = [pends[i].get_self() for i in range(NUM)] #Get selfs"
   ]
  },
  {
   "cell_type": "markdown",
   "id": "9934931b",
   "metadata": {
    "id": "9934931b"
   },
   "source": [
    "### C. Plot potential and trajectory"
   ]
  },
  {
   "cell_type": "code",
   "execution_count": 8,
   "id": "pPeEmOsZSk5G",
   "metadata": {
    "colab": {
     "base_uri": "https://localhost:8080/",
     "height": 247
    },
    "executionInfo": {
     "elapsed": 2033,
     "status": "ok",
     "timestamp": 1650246404514,
     "user": {
      "displayName": "Andrés Guarin",
      "userId": "10643971786942430713"
     },
     "user_tz": 300
    },
    "id": "pPeEmOsZSk5G",
    "outputId": "4ac16931-0e51-4e43-85e2-6ec5296370cf"
   },
   "outputs": [],
   "source": [
    "# Plot the potential \n",
    "dat = [[0, 6, 12], [2, 8, 14], [4, 10, 16]] #For plot some particular cases\n",
    "a = [0.2, 0.2, 0.3] #For setting limits to the plot\n",
    "for i in range(3):\n",
    "    for j in range(3):\n",
    "        k=dat[i][j]\n",
    "        pends[k].plot_potential(res=100, a=a[i]) #res=resolution (optional), a=limits of plot (optional)\n",
    "        #plt.savefig(f'Apos_potential_r={r[i]}_mu={mu[j]}.png',dpi=250)"
   ]
  },
  {
   "cell_type": "code",
   "execution_count": null,
   "id": "4c56ffd5",
   "metadata": {
    "colab": {
     "base_uri": "https://localhost:8080/",
     "height": 392
    },
    "executionInfo": {
     "elapsed": 383,
     "status": "ok",
     "timestamp": 1650246500123,
     "user": {
      "displayName": "Andrés Guarin",
      "userId": "10643971786942430713"
     },
     "user_tz": 300
    },
    "id": "9edcb98f",
    "outputId": "31d1821d-2fdd-4d8a-88dd-1b59de844573"
   },
   "outputs": [],
   "source": [
    "# Animate the trajectory (only for normal runs)\n",
    "k=0\n",
    "pends[k].set_lim(0.25) #Adjust the xlims and ylims of the plot. Increase to see small the set up.\n",
    "animate_path(selfs[k])"
   ]
  },
  {
   "cell_type": "code",
   "execution_count": null,
   "id": "ec2c9314",
   "metadata": {},
   "outputs": [],
   "source": [
    "# Plot mechanical energy (only for normal runs)\n",
    "for k in [0, 2, 8, 10, 14, 16]: #For some particular cases\n",
    "    # Pendulum constants\n",
    "    m = selfs[k].m\n",
    "    d = selfs[k].d\n",
    "    l = selfs[k].l\n",
    "    # Positions\n",
    "    X = selfs[k].X\n",
    "    Y= selfs[k].Y\n",
    "    Z = -np.sqrt(selfs[k].l**2 - X**2 - Y**2) +l+d\n",
    "    # Velocities\n",
    "    Vx = selfs[k].Vx\n",
    "    Vy = selfs[k].Vy\n",
    "    Vz = -(X*Vx+Y*Vy)/(Z-l-d)\n",
    "    # Mgnetic dipoles constants and vector\n",
    "    m1 = selfs[k].mu_P_magn\n",
    "    Um1_x = X/l                 #X component  \n",
    "    Um1_y = Y/l                 #Y component \n",
    "    Um1_z = (Z-l-d)/l           #Z component\n",
    "    NINTERVALS = len(selfs[k].B) # Number of intervals\n",
    "    # Magnetic Fields\n",
    "    Bx = np.array([selfs[k].B[i][0] for i in range(NINTERVALS)])\n",
    "    By = np.array([selfs[k].B[i][1] for i in range(NINTERVALS)])\n",
    "    Bz = np.array([selfs[k].B[i][2] for i in range(NINTERVALS)])\n",
    "    # Potentials\n",
    "    Ug = m*9.8*(Z-d)\n",
    "    Um = -m1 * (Um1_x*Bx + Um1_y*By + Um1_z*Bz)\n",
    "    U = Ug+Um-min(Ug+Um)\n",
    "    # Kinetic Energy\n",
    "    K = 0.5*m*(Vx**2+Vy**2+Vz**2)\n",
    "    # Plot Mehanical Energy\n",
    "    plt.figure()\n",
    "    t = np.linspace(0, NINTERVALS*selfs[k].h, NINTERVALS)\n",
    "    plt.plot(t,U+K,'-r',label = 'Mechanical Energy',linewidth=0.4)\n",
    "    #plt.plot(t,K,'-b',label = 'Kinetic Energy',linewidth=0.5)\n",
    "    #plt.plot(t,U,color='orange',label = 'Potential Energy',linewidth=0.5)\n",
    "    plt.ylabel('Mechanical Energy [J]', fontsize = 12)\n",
    "    plt.xlabel('Time [s]', fontsize = 12)\n",
    "    plt.title('Mechanical Energy of the system', fontsize = 15)\n",
    "    plt.legend(fontsize=10, ncol=1)\n",
    "    plt.xticks(size = 10)\n",
    "    plt.yticks(size = 10)\n",
    "    plt.savefig(f'Apos_mechanical_energy_{k+1}_r={datr[k//2]}_mu={datmu[k//2]}_CI_case_{k%2 + 1}.png',dpi=300)\n",
    "    plt.show()"
   ]
  },
  {
   "cell_type": "code",
   "execution_count": 109,
   "id": "iuq9FL4TVzsE",
   "metadata": {
    "colab": {
     "base_uri": "https://localhost:8080/",
     "height": 422
    },
    "executionInfo": {
     "elapsed": 667,
     "status": "ok",
     "timestamp": 1650246408686,
     "user": {
      "displayName": "Andrés Guarin",
      "userId": "10643971786942430713"
     },
     "user_tz": 300
    },
    "id": "iuq9FL4TVzsE",
    "outputId": "3193d503-d037-41e7-fb9b-370eb4c5de07"
   },
   "outputs": [],
   "source": [
    "# Plot magnets locations\n",
    "pends[0].plot_table()\n",
    "Mx = selfs[0].Mx\n",
    "My = selfs[0].My\n",
    "\n",
    "# Plot magnets\n",
    "for i in range(len(Mx)):\n",
    "    plt.plot(Mx[i],My[i],'or')\n",
    "    plt.text(Mx[i]-0.01,My[i]-0.02,f'{i}')\n",
    "plt.text(0.05,0.14,r' $\\mu =$'+str(mu[2])+r'[$Am^2$]')\n",
    "# Put limits, labels, legend and title\n",
    "lim = selfs[0].Table_SIZE/2 + 0.04\n",
    "plt.xlim(-lim,lim)\n",
    "plt.ylim(-lim,lim)\n",
    "plt.xlabel('X-axis [m]')\n",
    "plt.ylabel('Y-axis [m]')\n",
    "plt.legend(loc='upper right')\n",
    "plt.title('Table Magnets')\n",
    "plt.show()"
   ]
  },
  {
   "cell_type": "code",
   "execution_count": 24,
   "id": "3da0fcf9",
   "metadata": {
    "colab": {
     "base_uri": "https://localhost:8080/",
     "height": 801
    },
    "executionInfo": {
     "elapsed": 3427,
     "status": "ok",
     "timestamp": 1650246431772,
     "user": {
      "displayName": "Andrés Guarin",
      "userId": "10643971786942430713"
     },
     "user_tz": 300
    },
    "id": "3da0fcf9",
    "outputId": "f0957052-4be3-403f-aada-31d4a508704b"
   },
   "outputs": [],
   "source": [
    "# Plot the table, trajectory, and vector field.\n",
    "for i in range(12,16):\n",
    "    # Plot table and path\n",
    "    pends[i].plot_table()              \n",
    "    pends[i].plot_path()\n",
    "\n",
    "    # Plot vector space\n",
    "    pends[i].plot_vector_space(res=30) #res: resolution. Increase to obtain more vectors.\n",
    "    plt.legend(loc='upper left',fontsize=10)\n",
    "    plt.savefig(f'r={datr[i//2]} mu={datmu[i//2]}/Apos_vector_space_{i+1}_r={datr[i//2]}_mu={datmu[i//2]}.png',dpi=300)\n",
    "    plt.show()"
   ]
  },
  {
   "cell_type": "markdown",
   "id": "b41b04b2",
   "metadata": {},
   "source": [
    "### D. Aditional isues"
   ]
  },
  {
   "cell_type": "markdown",
   "id": "73d5a6dd",
   "metadata": {},
   "source": [
    "#### I. Save data (if needed)"
   ]
  },
  {
   "cell_type": "code",
   "execution_count": 53,
   "id": "a0370d4e",
   "metadata": {},
   "outputs": [],
   "source": [
    "selfs = [pends[i].get_self() for i in range(14)]"
   ]
  },
  {
   "cell_type": "code",
   "execution_count": 56,
   "id": "71174234",
   "metadata": {},
   "outputs": [],
   "source": [
    "h=[]\n",
    "N=[]\n",
    "for i in range(14):\n",
    "    h.append(selfs[i].h)\n",
    "    N.append(selfs[i].N)\n",
    "df = pd.DataFrame({'h':h, 'N':N})\n",
    "df.to_csv(f'paths/parameters.csv')"
   ]
  },
  {
   "cell_type": "code",
   "execution_count": 52,
   "id": "65aca250",
   "metadata": {},
   "outputs": [],
   "source": [
    "X = datPos[13][-1][0]\n",
    "Y = datPos[13][-1][1]\n",
    "Vx = datPos[13][-1][2]\n",
    "Vy = datPos[13][-1][3]\n",
    "df = pd.DataFrame({'X':X, 'Y':Y, 'Vx':Vx, 'Vy':Vy})\n",
    "df.to_csv(f'paths/data_path_{i}.csv')"
   ]
  },
  {
   "cell_type": "markdown",
   "id": "d42d76df",
   "metadata": {},
   "source": [
    "#### II. Read data (if needed)"
   ]
  },
  {
   "cell_type": "code",
   "execution_count": 44,
   "id": "3f529ac0",
   "metadata": {},
   "outputs": [],
   "source": [
    "datain = pd.read_csv('paths/data_path_13.csv', index_col=0)\n",
    "X1 = datain['X'].values\n",
    "Y1 = datain['Y'].values"
   ]
  },
  {
   "cell_type": "markdown",
   "id": "fdc8dba6",
   "metadata": {},
   "source": [
    "#### IV. Parameters founded of convergence"
   ]
  },
  {
   "cell_type": "markdown",
   "id": "142ec6e8",
   "metadata": {},
   "source": [
    "0.05673275468615218 \n",
    "Time  0.1606311798095703\n",
    "Trajectory that doesn't converge:\n",
    "\n",
    "0.00031563293988951034\n",
    "Time  0.16422510147094727\n",
    "Trajectory that converge:"
   ]
  },
  {
   "cell_type": "markdown",
   "id": "a2db21cc",
   "metadata": {
    "id": "a2db21cc"
   },
   "source": [
    "## 3. Analyse the data <a id='section3'></a>"
   ]
  },
  {
   "cell_type": "code",
   "execution_count": 9,
   "id": "7260e041",
   "metadata": {},
   "outputs": [],
   "source": [
    "Lambdas = [[] for i in range(9)]"
   ]
  },
  {
   "cell_type": "markdown",
   "id": "c831dcc1",
   "metadata": {
    "id": "c831dcc1"
   },
   "source": [
    "### A. Phase Portrait"
   ]
  },
  {
   "cell_type": "code",
   "execution_count": 26,
   "id": "221e0451",
   "metadata": {
    "colab": {
     "base_uri": "https://localhost:8080/",
     "height": 1000
    },
    "executionInfo": {
     "elapsed": 2475,
     "status": "ok",
     "timestamp": 1650246535093,
     "user": {
      "displayName": "Andrés Guarin",
      "userId": "10643971786942430713"
     },
     "user_tz": 300
    },
    "id": "221e0451",
    "outputId": "3e610a39-f430-4825-98ba-0815cf406260"
   },
   "outputs": [],
   "source": [
    "#Phase portrait 3D (x,y,v)\n",
    "\n",
    "for i in range(14,16):\n",
    "    # Get positions and velocity\n",
    "    X=selfs[i].X\n",
    "    Y=selfs[i].Y\n",
    "    Vx=selfs[i].Vx\n",
    "    Vy=selfs[i].Vy\n",
    "    V = np.sqrt(Vx**2+Vy**2)*np.sign(Vy) #With sign\n",
    "\n",
    "    # Create projection 3d\n",
    "    plt.figure()\n",
    "    ax = plt.axes(projection='3d')\n",
    "\n",
    "    # Plot phae portrait\n",
    "    plt.plot(X,Y,V,'-r',linewidth=0.5)\n",
    "\n",
    "    # Put tilte and labels\n",
    "    plt.title(f'Phase portrait path {i+1}', fontsize=15)\n",
    "    plt.xlabel(r'X [m]',fontsize=12)\n",
    "    plt.ylabel(r'Y [m]',fontsize=12)\n",
    "    ax.set_zlabel(r'V sign(Vx) [m/s]',fontsize=12)\n",
    "    plt.xticks(fontsize=9)\n",
    "    plt.yticks(fontsize=9)\n",
    "    for t in ax.zaxis.get_major_ticks(): t.label.set_fontsize(9)\n",
    "    plt.savefig(f'r={datr[i//2]} mu={datmu[i//2]}/Apos_phase_portrait_{i+1}.png',dpi=300)\n",
    "    plt.show()\n",
    "\n",
    "    # Time series\n",
    "    plt.figure()\n",
    "\n",
    "    # Create time array\n",
    "    t=np.linspace(0,selfs[i].h*selfs[i].N,len(X))\n",
    "\n",
    "    # Plot time series\n",
    "    plt.plot(t,X,'-b',linewidth=0.5)\n",
    "\n",
    "    # Put the title and labels\n",
    "    plt.title(f'Time series of X path {i+1}',fontsize=15)\n",
    "    plt.xlabel('Time [s]',fontsize=12)\n",
    "    plt.ylabel('X [m]',fontsize=12)\n",
    "    plt.savefig(f'r={datr[i//2]} mu={datmu[i//2]}/Apos_time_series_of_X_{i+1}.png',dpi=300)\n",
    "    plt.show()"
   ]
  },
  {
   "cell_type": "code",
   "execution_count": 10,
   "id": "uHoYRdkDXBB6",
   "metadata": {
    "colab": {
     "base_uri": "https://localhost:8080/",
     "height": 267
    },
    "executionInfo": {
     "elapsed": 962,
     "status": "ok",
     "timestamp": 1650246845940,
     "user": {
      "displayName": "Andrés Guarin",
      "userId": "10643971786942430713"
     },
     "user_tz": 300
    },
    "id": "uHoYRdkDXBB6",
    "outputId": "8a3d5dec-7fee-4ee4-cc95-4a89e7f4a5ca"
   },
   "outputs": [],
   "source": [
    "# Superposition\n",
    "plt.figure()\n",
    "ax = plt.axes(projection='3d')\n",
    "colors=['blue','red']*(NUM//2)\n",
    "#colors=['blue','red','green','orange']*3\n",
    "for i in range(16,18):\n",
    "    # Get positions and velocity\n",
    "    X=selfs[i].X\n",
    "    Y=selfs[i].Y\n",
    "    Vx=selfs[i].Vx\n",
    "    Vy=selfs[i].Vy\n",
    "    V = np.sqrt(Vx**2+Vy**2)*np.sign(Vy) #With sign\n",
    "    \n",
    "    # Plot phae portrait\n",
    "    plt.plot(X,Y,V,color=colors[i],linewidth=0.8,label=f'Path {i+1}',alpha=0.9)\n",
    "\n",
    "# Put tilte and labels\n",
    "plt.title('Phase portrait 3D', fontsize=15)\n",
    "plt.xlabel(r'X [m]',fontsize=12)\n",
    "plt.ylabel(r'Y [m]',fontsize=12)\n",
    "plt.legend()\n",
    "ax.set_zlabel(r'V sign(Vx) [m/s]',fontsize=12)\n",
    "plt.xticks(fontsize=9)\n",
    "plt.yticks(fontsize=9)\n",
    "for t in ax.zaxis.get_major_ticks(): t.label.set_fontsize(9)\n",
    "plt.show()\n",
    "plt.savefig(f'r={datr[i//2]} mu={datmu[i//2]}/Apos_phase_portrait_{i}{i+1}.png',dpi=300)"
   ]
  },
  {
   "cell_type": "markdown",
   "id": "c260bc2e",
   "metadata": {
    "id": "c260bc2e"
   },
   "source": [
    "### B. Difference of paths and Liapunov exponent"
   ]
  },
  {
   "cell_type": "code",
   "execution_count": 35,
   "id": "01a5e332",
   "metadata": {
    "colab": {
     "base_uri": "https://localhost:8080/",
     "height": 300
    },
    "executionInfo": {
     "elapsed": 1361,
     "status": "ok",
     "timestamp": 1650247452264,
     "user": {
      "displayName": "Andrés Guarin",
      "userId": "10643971786942430713"
     },
     "user_tz": 300
    },
    "id": "01a5e332",
    "outputId": "14690e0a-edef-48de-f601-11a31cb305ce"
   },
   "outputs": [
    {
     "name": "stderr",
     "output_type": "stream",
     "text": [
      "C:\\Users\\USUARIO\\AppData\\Local\\Temp\\ipykernel_12512\\195123931.py:18: RuntimeWarning: divide by zero encountered in true_divide\n",
      "  plt.plot(t, np.log(D/D[0]), '-b',label='Log distance')\n",
      "C:\\Users\\USUARIO\\AppData\\Local\\Temp\\ipykernel_12512\\195123931.py:18: RuntimeWarning: invalid value encountered in true_divide\n",
      "  plt.plot(t, np.log(D/D[0]), '-b',label='Log distance')\n"
     ]
    }
   ],
   "source": [
    "# Differents between paths\n",
    "pair=3 #From 0 to 8\n",
    "\n",
    "X1, Y1 = selfs[pair*2].X, selfs[pair*2].Y \n",
    "X2, Y2 = selfs[pair*2+1].X, selfs[pair*2+1].Y\n",
    "\n",
    "# Distance between paths\n",
    "nn = min([len(X1),len(X2)])\n",
    "D=np.sqrt((X1[:nn]-X2[:nn])**2 + ((Y1[:nn]-Y2[:nn])**2))\n",
    "\n",
    "# Time array\n",
    "t=np.linspace(0,selfs[0].h * selfs[0].N ,len(D))\n",
    "\n",
    "plt.figure()\n",
    "\n",
    "# Plot difference vs time\n",
    "#plt.plot(t,D, label='Distance')\n",
    "plt.plot(t, np.log(D/D[0]), '-b',label='Log distance')\n",
    "\n",
    "# Put labels, title, legend, ticks and grid\n",
    "plt.ylabel(r'Log(D(t)/D(0)) [dimensionless]', fontsize = 12)\n",
    "plt.xlabel('Time [s]', fontsize = 12)\n",
    "plt.title('Chaotic behaviour, changing 1mm the initial positions', fontsize = 15)\n",
    "plt.legend(fontsize=10, ncol=1)\n",
    "plt.xticks(size = 10)\n",
    "plt.yticks(size = 10)\n",
    "plt.grid(True)\n",
    "\n",
    "# Save image\n",
    "plt.savefig(f'r={datr[pair]} mu={datmu[pair]}/Apos_diference_trajectories_{pair*2+1}{pair*2+2}.png',dpi=300)\n",
    "\n",
    "# Show image\n",
    "plt.show()"
   ]
  },
  {
   "cell_type": "code",
   "execution_count": 153,
   "id": "ESo2an4nY3fF",
   "metadata": {
    "colab": {
     "base_uri": "https://localhost:8080/"
    },
    "executionInfo": {
     "elapsed": 8,
     "status": "ok",
     "timestamp": 1650247273975,
     "user": {
      "displayName": "Andrés Guarin",
      "userId": "10643971786942430713"
     },
     "user_tz": 300
    },
    "id": "ESo2an4nY3fF",
    "outputId": "ac6a2ce0-d673-4eca-a052-77ff3c851473"
   },
   "outputs": [
    {
     "name": "stdout",
     "output_type": "stream",
     "text": [
      "0 7262\n"
     ]
    }
   ],
   "source": [
    "#Check start and end\n",
    "ti = 0\n",
    "tf = 0.7263\n",
    "start = int(ti/selfs[pair*2].h)\n",
    "end = int(tf/selfs[pair*2].h)\n",
    "print(start, end)"
   ]
  },
  {
   "cell_type": "code",
   "execution_count": 156,
   "id": "0rcXXCg1Yrw0",
   "metadata": {
    "colab": {
     "base_uri": "https://localhost:8080/",
     "height": 300
    },
    "executionInfo": {
     "elapsed": 564,
     "status": "ok",
     "timestamp": 1650247727115,
     "user": {
      "displayName": "Andrés Guarin",
      "userId": "10643971786942430713"
     },
     "user_tz": 300
    },
    "id": "0rcXXCg1Yrw0",
    "outputId": "35daebe9-2ca6-478b-a819-75a5eaab3344"
   },
   "outputs": [],
   "source": [
    "starts = [108999, 0, 0, 0, 0, 0, 0, 0]\n",
    "ends =   [561249, 7117, 7262, 0, 0, 0, 0, 0]\n",
    "\n",
    "start = starts[pair]\n",
    "end = ends[pair]\n",
    "\n",
    "def linear(x, m, b):\n",
    "    return x*m + b\n",
    "\n",
    "t_set = t[start:end+1]\n",
    "D_set = D[start:end+1]\n",
    "params, cov = curve_fit(linear, t_set, np.log(D_set/D_set[0]))\n",
    "var = np.sqrt(np.diag(cov))\n",
    "\n",
    "# Plot difference vs time\n",
    "plt.figure()\n",
    "plt.plot(t_set, np.log(D_set/D_set[0]),color='blue', label='Log distance')\n",
    "plt.plot(t_set, linear(t_set, params[0], params[1]), color='orange', label=f'Linear Fit: log(D)={np.round(params[0],2)}t+{np.round(params[1],2)}')\n",
    "\n",
    "# Put labels, title, legend, ticks and grid\n",
    "plt.ylabel('Log(D(t) / D0) [dimensionless]', fontsize = 12)\n",
    "plt.xlabel('Time [s]', fontsize = 12)\n",
    "plt.title('Chaotic behaviour, changing 1mm initial positions', fontsize = 15)\n",
    "plt.legend(fontsize=10, ncol=1)\n",
    "plt.xticks(size = 10)\n",
    "plt.yticks(size = 10)\n",
    "\n",
    "xtext = 5/7*(t_set[-1]-t_set[0]) + t_set[0]\n",
    "log_set = np.log(D_set/D_set[0])\n",
    "ytext = 2/6*(max(log_set)-min(log_set)) + min(log_set)\n",
    "\n",
    "plt.text(xtext, ytext, f'lambda = {np.round(params[0],3)}', fontsize=10)\n",
    "plt.grid(True)\n",
    "plt.savefig(f'r={datr[pair]} mu={datmu[pair]}/Apos_Lyapunov_{2*pair+1}{2*pair+2}.png',dpi=300)\n",
    "plt.show()\n",
    "Lambdas[pair] = params[0]"
   ]
  },
  {
   "cell_type": "code",
   "execution_count": 157,
   "id": "b472620f",
   "metadata": {},
   "outputs": [],
   "source": [
    "plt.figure()\n",
    "t_Ly = np.linspace(t[start], t[end-1300],200)\n",
    "y_Ly = D[start]*np.e**(params[0]*(t_Ly)+params[1])\n",
    "plt.plot(t_Ly, y_Ly, '-',label=r'Fit $D(t) = %.5f \\ e^{%.2f t + %.2f}$'%(np.round(D[start],5),np.round(params[0],2),np.round(params[1],2))\n",
    "         ,linewidth=1.5, color='red', alpha=0.6)\n",
    "\n",
    "#start2 = 121\n",
    "#end2 = 166\n",
    "#t_Ly2 = np.linspace(t[start2], t[end2+2],200)\n",
    "#y_Ly2 = D[start2]*np.e**(params2[0]*(t_Ly2)+params2[1])\n",
    "#plt.plot(t_Ly2, y_Ly2, '-',label=f'Fit 2 D(t) = {np.round(D[start2],4)}e^({np.round(params2[0],2)} t - {-np.round(params2[1],2)})',linewidth=1.5, color='orange', alpha=0.6)\n",
    "plt.plot(t,D,'-b',label='Distance', linewidth=1.5, alpha=0.6)\n",
    "\n",
    "plt.ylabel('D(t) [m]', fontsize = 12)\n",
    "plt.xlabel('Time [s]', fontsize = 12)\n",
    "plt.ylim(-0.0055, 0.42)\n",
    "plt.title('Chaotic behaviour, changing 1mm initial positions', fontsize = 15)\n",
    "plt.legend(fontsize=10, ncol=1, loc='upper left')\n",
    "plt.xticks(size = 10)\n",
    "plt.yticks(size = 10)\n",
    "plt.savefig(f'r={datr[pair]} mu={datmu[pair]}/Apos_Exponential_divergence_{2*pair+1}{2*pair+2}.png',dpi=300)\n",
    "plt.show()"
   ]
  },
  {
   "cell_type": "code",
   "execution_count": 19,
   "id": "a2e4fca0",
   "metadata": {},
   "outputs": [
    {
     "ename": "NameError",
     "evalue": "name 'Lambdas' is not defined",
     "output_type": "error",
     "traceback": [
      "\u001b[1;31m---------------------------------------------------------------------------\u001b[0m",
      "\u001b[1;31mNameError\u001b[0m                                 Traceback (most recent call last)",
      "Input \u001b[1;32mIn [19]\u001b[0m, in \u001b[0;36m<cell line: 1>\u001b[1;34m()\u001b[0m\n\u001b[1;32m----> 1\u001b[0m \u001b[43mLambdas\u001b[49m\n",
      "\u001b[1;31mNameError\u001b[0m: name 'Lambdas' is not defined"
     ]
    }
   ],
   "source": [
    "Lambdas"
   ]
  },
  {
   "cell_type": "markdown",
   "id": "524a188a",
   "metadata": {},
   "source": [
    "### C. Lyapunov Exponent Analysis"
   ]
  },
  {
   "cell_type": "code",
   "execution_count": 25,
   "id": "c473164a",
   "metadata": {},
   "outputs": [],
   "source": [
    "L = np.array([[1.2, 2.7, 3.2],[2.7, 1.4, 3],[3.4, 1.1, 2.7]])"
   ]
  },
  {
   "cell_type": "code",
   "execution_count": 34,
   "id": "e44e63b2",
   "metadata": {},
   "outputs": [],
   "source": [
    "plt.figure()\n",
    "plt.title(r\"$\\lambda$ parameter space\",fontsize=14)\n",
    "plt.xlabel(r'Magnetic dipole magnitudes [$Am^2$]',fontsize=12)\n",
    "plt.ylabel(r'Radius delimiter zone [$m$]',fontsize=12)\n",
    "plt.xticks(range(3),[str(mu[i]) for i in range(3)])\n",
    "plt.yticks(range(3),[str(r[i]) for i in range(3)])\n",
    "plt.imshow(L)\n",
    "cbar = plt.colorbar()\n",
    "cbar.set_label('$\\lambda \\ [1/s]$', rotation=90, fontsize=12)\n",
    "plt.savefig('MAIN SUMMARY RESULT Lambda parameters space.png',dpi=250)\n",
    "plt.show()"
   ]
  },
  {
   "cell_type": "code",
   "execution_count": null,
   "id": "585e7276",
   "metadata": {},
   "outputs": [],
   "source": []
  }
 ],
 "metadata": {
  "colab": {
   "collapsed_sections": [
    "c62b7691"
   ],
   "name": "Pendulum magnets 11 Hexagono posvalidacion.ipynb",
   "provenance": []
  },
  "kernelspec": {
   "display_name": "Python 3 (ipykernel)",
   "language": "python",
   "name": "python3"
  },
  "language_info": {
   "codemirror_mode": {
    "name": "ipython",
    "version": 3
   },
   "file_extension": ".py",
   "mimetype": "text/x-python",
   "name": "python",
   "nbconvert_exporter": "python",
   "pygments_lexer": "ipython3",
   "version": "3.10.4"
  }
 },
 "nbformat": 4,
 "nbformat_minor": 5
}
